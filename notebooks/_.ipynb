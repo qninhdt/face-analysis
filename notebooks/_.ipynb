{
 "cells": [
  {
   "cell_type": "code",
   "execution_count": 6,
   "metadata": {},
   "outputs": [],
   "source": [
    "import setup"
   ]
  },
  {
   "cell_type": "code",
   "execution_count": 7,
   "metadata": {},
   "outputs": [],
   "source": [
    "from model.yolo_module import YOLOModule\n",
    "from data.pixta_face_datamodule import PIXTAFaceDataModule\n",
    "import torch"
   ]
  },
  {
   "cell_type": "code",
   "execution_count": 8,
   "metadata": {},
   "outputs": [],
   "source": [
    "model = torch.load(\n",
    "    \"../checkpoints/yolo_nano/last.ckpt\", map_location=torch.device(\"cpu\")\n",
    ")\n",
    "\n",
    "data = PIXTAFaceDataModule(\n",
    "    \"../datasets/pixta_face/\", batch_size=2, num_workers=4, pin_memory=True\n",
    ")\n",
    "data.setup()"
   ]
  },
  {
   "cell_type": "code",
   "execution_count": 10,
   "metadata": {},
   "outputs": [],
   "source": [
    "model['optimizer_states'][0]['param_groups'][0]['lr'] = 0.00001"
   ]
  },
  {
   "cell_type": "code",
   "execution_count": 11,
   "metadata": {},
   "outputs": [],
   "source": [
    "torch.save(model, '../checkpoints/yolo_nano/last.ckpt')"
   ]
  },
  {
   "cell_type": "code",
   "execution_count": 14,
   "metadata": {},
   "outputs": [],
   "source": [
    "loader = iter(data.test_dataloader())"
   ]
  },
  {
   "cell_type": "code",
   "execution_count": 15,
   "metadata": {},
   "outputs": [],
   "source": [
    "from model.evaluators.postprocess import postprocess"
   ]
  },
  {
   "cell_type": "code",
   "execution_count": 16,
   "metadata": {},
   "outputs": [],
   "source": [
    "import matplotlib.pyplot as plt\n",
    "import matplotlib.patches as patches\n",
    "from PIL import ImageDraw\n",
    "from PIL import ImageFont\n",
    "from torchvision.transforms.functional import to_pil_image\n",
    "\n",
    "def unnormailze(image):\n",
    "    image = image.cpu().numpy()\n",
    "    image = image.transpose(1, 2, 0)\n",
    "    image = image * [0.2272, 0.2248, 0.2345]\n",
    "    image = image + [0.6596, 0.6235, 0.5875]\n",
    "    image = image * 255\n",
    "    image = image.astype('uint8')\n",
    "    return image\n",
    "\n",
    "def get_sample_image(image, sample):\n",
    "    # convert torch tensor to PIL image\n",
    "    image = to_pil_image(unnormailze(image.cpu()))\n",
    "\n",
    "    draw = ImageDraw.Draw(image)\n",
    "\n",
    "    for i in range(sample['boxes'].shape[0]):\n",
    "        box = sample['boxes'][i]\n",
    "        x, y, w, h = int(box[0]) - int(box[2]) / 2, int(box[1]) - int(box[3]) / 2, int(box[2]), int(box[3])\n",
    "\n",
    "        color = 'red' if sample['gender'][i] == 0 else 'blue'\n",
    "\n",
    "        draw.rectangle(((x, y), (x+w, y+h)), outline=color, width=3)\n",
    "\n",
    "    return image"
   ]
  },
  {
   "cell_type": "code",
   "execution_count": 17,
   "metadata": {},
   "outputs": [],
   "source": [
    "def visualize_sample(image, target, pred):\n",
    "    # draw in 1x2 grid\n",
    "    fig, (ax1, ax2) = plt.subplots(1, 2, figsize=(16, 8))\n",
    "\n",
    "    ax1.imshow(get_sample_image(image, target))\n",
    "    ax1.set_title('Ground Truth')\n",
    "    ax1.axis('off')\n",
    "\n",
    "    ax2.imshow(get_sample_image(image, pred))\n",
    "    ax2.set_title('Prediction')\n",
    "    ax2.axis('off')\n",
    "\n",
    "    plt.show()"
   ]
  },
  {
   "cell_type": "code",
   "execution_count": 18,
   "metadata": {},
   "outputs": [
    {
     "ename": "TypeError",
     "evalue": "'dict' object is not callable",
     "output_type": "error",
     "traceback": [
      "\u001b[0;31m---------------------------------------------------------------------------\u001b[0m",
      "\u001b[0;31mTypeError\u001b[0m                                 Traceback (most recent call last)",
      "Cell \u001b[0;32mIn[18], line 3\u001b[0m\n\u001b[1;32m      1\u001b[0m image, target \u001b[38;5;241m=\u001b[39m \u001b[38;5;28mnext\u001b[39m(loader)\n\u001b[0;32m----> 3\u001b[0m pred \u001b[38;5;241m=\u001b[39m \u001b[43mmodel\u001b[49m\u001b[43m(\u001b[49m\u001b[43mimage\u001b[49m\u001b[43m)\u001b[49m[\u001b[38;5;241m0\u001b[39m]\n\u001b[1;32m      4\u001b[0m pred \u001b[38;5;241m=\u001b[39m postprocess(pred, \u001b[38;5;241m0.2\u001b[39m, \u001b[38;5;241m0.5\u001b[39m)\n\u001b[1;32m      6\u001b[0m \u001b[38;5;28mprint\u001b[39m(target)\n",
      "\u001b[0;31mTypeError\u001b[0m: 'dict' object is not callable"
     ]
    }
   ],
   "source": [
    "image, target = next(loader)\n",
    "\n",
    "pred = model(image)[0]\n",
    "pred = postprocess(pred, 0.2, 0.5)\n",
    "\n",
    "print(target)\n",
    "\n",
    "for i in range(len(pred)):\n",
    "    visualize_sample(image[i], target[i], pred[i])\n"
   ]
  }
 ],
 "metadata": {
  "kernelspec": {
   "display_name": "cctv-od",
   "language": "python",
   "name": "python3"
  },
  "language_info": {
   "codemirror_mode": {
    "name": "ipython",
    "version": 3
   },
   "file_extension": ".py",
   "mimetype": "text/x-python",
   "name": "python",
   "nbconvert_exporter": "python",
   "pygments_lexer": "ipython3",
   "version": "3.8.18"
  }
 },
 "nbformat": 4,
 "nbformat_minor": 2
}
