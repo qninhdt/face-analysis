{
 "cells": [
  {
   "cell_type": "code",
   "execution_count": 1,
   "metadata": {},
   "outputs": [],
   "source": [
    "import setup"
   ]
  },
  {
   "cell_type": "code",
   "execution_count": 2,
   "metadata": {},
   "outputs": [
    {
     "name": "stderr",
     "output_type": "stream",
     "text": [
      "/home/qninhdt/miniconda3/envs/cctv-od/lib/python3.8/site-packages/tqdm/auto.py:21: TqdmWarning: IProgress not found. Please update jupyter and ipywidgets. See https://ipywidgets.readthedocs.io/en/stable/user_install.html\n",
      "  from .autonotebook import tqdm as notebook_tqdm\n"
     ]
    }
   ],
   "source": [
    "from model.yolo_module import YOLOModule\n",
    "from data.pixta_face_datamodule import PIXTAFaceDataModule"
   ]
  },
  {
   "cell_type": "code",
   "execution_count": 3,
   "metadata": {},
   "outputs": [
    {
     "name": "stderr",
     "output_type": "stream",
     "text": [
      "/home/qninhdt/miniconda3/envs/cctv-od/lib/python3.8/site-packages/lightning/pytorch/utilities/parsing.py:198: Attribute 'model' is an instance of `nn.Module` and is already saved during checkpointing. It is recommended to ignore them using `self.save_hyperparameters(ignore=['model'])`.\n"
     ]
    }
   ],
   "source": [
    "model = YOLOModule.load_from_checkpoint('../checkpoints/last.ckpt')\n",
    "model.to('cuda')\n",
    "\n",
    "data = PIXTAFaceDataModule('../datasets/pixta_face/', batch_size=1, num_workers=4, pin_memory=True)\n",
    "data.setup()\n"
   ]
  },
  {
   "cell_type": "code",
   "execution_count": 4,
   "metadata": {},
   "outputs": [],
   "source": [
    "loader = iter(data.test_dataloader())"
   ]
  },
  {
   "cell_type": "code",
   "execution_count": 5,
   "metadata": {},
   "outputs": [],
   "source": [
    "image, target = next(loader)\n",
    "\n",
    "pred = model(image.to('cuda'))"
   ]
  },
  {
   "cell_type": "code",
   "execution_count": 6,
   "metadata": {},
   "outputs": [],
   "source": [
    "from model.evaluators.postprocess import demo_postprocess"
   ]
  },
  {
   "cell_type": "code",
   "execution_count": 24,
   "metadata": {},
   "outputs": [
    {
     "data": {
      "text/plain": [
       "[{'age': tensor([3], dtype=torch.int32),\n",
       "  'gender': tensor([0], dtype=torch.int32),\n",
       "  'race': tensor([0], dtype=torch.int32),\n",
       "  'emotion': tensor([0], dtype=torch.int32),\n",
       "  'masked': tensor([0], dtype=torch.int32),\n",
       "  'skintone': tensor([1], dtype=torch.int32),\n",
       "  'boxes': tensor([[477.0211, 323.0415,  12.0173,  22.5171]]),\n",
       "  'nboxes': tensor([[0.7547, 0.5223, 0.0188, 0.0352]])}]"
      ]
     },
     "execution_count": 24,
     "metadata": {},
     "output_type": "execute_result"
    }
   ],
   "source": [
    "target"
   ]
  },
  {
   "cell_type": "code",
   "execution_count": 28,
   "metadata": {},
   "outputs": [
    {
     "data": {
      "text/plain": [
       "tensor([[0.0591, 0.3724, 0.3038, 0.8026, 0.8691, 0.5045]], device='cuda:0',\n",
       "       grad_fn=<IndexBackward0>)"
      ]
     },
     "execution_count": 28,
     "metadata": {},
     "output_type": "execute_result"
    }
   ],
   "source": [
    "idx = pred[:, :, 4].argmax(dim=1)\n",
    "box = pred[0, idx, :4]\n",
    "\n",
    "pred[0, idx, 5:11]"
   ]
  },
  {
   "cell_type": "code",
   "execution_count": null,
   "metadata": {},
   "outputs": [],
   "source": []
  }
 ],
 "metadata": {
  "kernelspec": {
   "display_name": "cctv-od",
   "language": "python",
   "name": "python3"
  },
  "language_info": {
   "codemirror_mode": {
    "name": "ipython",
    "version": 3
   },
   "file_extension": ".py",
   "mimetype": "text/x-python",
   "name": "python",
   "nbconvert_exporter": "python",
   "pygments_lexer": "ipython3",
   "version": "3.8.18"
  }
 },
 "nbformat": 4,
 "nbformat_minor": 2
}
